{
 "cells": [
  {
   "cell_type": "markdown",
   "metadata": {},
   "source": [
    "**TASK**<br>\n",
    "1. Analisa kira kira variabel apa yang bisa dipakai untuk klusterisasi tipe tipe pelanggan<br>\n",
    "2. Visualisasikan mana pelanggan yang perlu diperhatikan dan tidak perlu diperhatikan\n",
    "\n"
   ]
  },
  {
   "cell_type": "markdown",
   "metadata": {},
   "source": [
    "# A. Data Preparation"
   ]
  },
  {
   "cell_type": "code",
   "execution_count": 2,
   "metadata": {},
   "outputs": [],
   "source": [
    "# Import Library \n",
    "import pandas as pd\n",
    "import matplotlib.pyplot as plt\n",
    "from sklearn.cluster import KMeans\n",
    "from sklearn.preprocessing import MinMaxScaler\n",
    "import seaborn as sns"
   ]
  },
  {
   "cell_type": "markdown",
   "metadata": {},
   "source": [
    "### A.1 Data Extraction"
   ]
  },
  {
   "cell_type": "code",
   "execution_count": 3,
   "metadata": {},
   "outputs": [
    {
     "data": {
      "text/html": [
       "<div>\n",
       "<style scoped>\n",
       "    .dataframe tbody tr th:only-of-type {\n",
       "        vertical-align: middle;\n",
       "    }\n",
       "\n",
       "    .dataframe tbody tr th {\n",
       "        vertical-align: top;\n",
       "    }\n",
       "\n",
       "    .dataframe thead th {\n",
       "        text-align: right;\n",
       "    }\n",
       "</style>\n",
       "<table border=\"1\" class=\"dataframe\">\n",
       "  <thead>\n",
       "    <tr style=\"text-align: right;\">\n",
       "      <th></th>\n",
       "      <th>Unnamed: 0.1</th>\n",
       "      <th>Unnamed: 0</th>\n",
       "      <th>InvoiceNo</th>\n",
       "      <th>StockCode</th>\n",
       "      <th>Description</th>\n",
       "      <th>Quantity</th>\n",
       "      <th>InvoiceDate</th>\n",
       "      <th>UnitPrice</th>\n",
       "      <th>CustomerID</th>\n",
       "      <th>Country</th>\n",
       "    </tr>\n",
       "  </thead>\n",
       "  <tbody>\n",
       "    <tr>\n",
       "      <th>0</th>\n",
       "      <td>0</td>\n",
       "      <td>0</td>\n",
       "      <td>536365</td>\n",
       "      <td>85123A</td>\n",
       "      <td>WHITE HANGING HEART T-LIGHT HOLDER</td>\n",
       "      <td>6</td>\n",
       "      <td>12/1/10 8:26</td>\n",
       "      <td>2.55</td>\n",
       "      <td>17850.0</td>\n",
       "      <td>United Kingdom</td>\n",
       "    </tr>\n",
       "    <tr>\n",
       "      <th>1</th>\n",
       "      <td>1</td>\n",
       "      <td>1</td>\n",
       "      <td>536365</td>\n",
       "      <td>71053</td>\n",
       "      <td>WHITE METAL LANTERN</td>\n",
       "      <td>6</td>\n",
       "      <td>12/1/10 8:26</td>\n",
       "      <td>3.39</td>\n",
       "      <td>17850.0</td>\n",
       "      <td>United Kingdom</td>\n",
       "    </tr>\n",
       "    <tr>\n",
       "      <th>2</th>\n",
       "      <td>2</td>\n",
       "      <td>2</td>\n",
       "      <td>536365</td>\n",
       "      <td>84406B</td>\n",
       "      <td>CREAM CUPID HEARTS COAT HANGER</td>\n",
       "      <td>8</td>\n",
       "      <td>12/1/10 8:26</td>\n",
       "      <td>2.75</td>\n",
       "      <td>17850.0</td>\n",
       "      <td>United Kingdom</td>\n",
       "    </tr>\n",
       "    <tr>\n",
       "      <th>3</th>\n",
       "      <td>3</td>\n",
       "      <td>3</td>\n",
       "      <td>536365</td>\n",
       "      <td>84029G</td>\n",
       "      <td>KNITTED UNION FLAG HOT WATER BOTTLE</td>\n",
       "      <td>6</td>\n",
       "      <td>12/1/10 8:26</td>\n",
       "      <td>3.39</td>\n",
       "      <td>17850.0</td>\n",
       "      <td>United Kingdom</td>\n",
       "    </tr>\n",
       "    <tr>\n",
       "      <th>4</th>\n",
       "      <td>4</td>\n",
       "      <td>4</td>\n",
       "      <td>536365</td>\n",
       "      <td>84029E</td>\n",
       "      <td>RED WOOLLY HOTTIE WHITE HEART.</td>\n",
       "      <td>6</td>\n",
       "      <td>12/1/10 8:26</td>\n",
       "      <td>3.39</td>\n",
       "      <td>17850.0</td>\n",
       "      <td>United Kingdom</td>\n",
       "    </tr>\n",
       "  </tbody>\n",
       "</table>\n",
       "</div>"
      ],
      "text/plain": [
       "   Unnamed: 0.1  Unnamed: 0 InvoiceNo StockCode  \\\n",
       "0             0           0    536365    85123A   \n",
       "1             1           1    536365     71053   \n",
       "2             2           2    536365    84406B   \n",
       "3             3           3    536365    84029G   \n",
       "4             4           4    536365    84029E   \n",
       "\n",
       "                           Description  Quantity   InvoiceDate  UnitPrice  \\\n",
       "0   WHITE HANGING HEART T-LIGHT HOLDER         6  12/1/10 8:26       2.55   \n",
       "1                  WHITE METAL LANTERN         6  12/1/10 8:26       3.39   \n",
       "2       CREAM CUPID HEARTS COAT HANGER         8  12/1/10 8:26       2.75   \n",
       "3  KNITTED UNION FLAG HOT WATER BOTTLE         6  12/1/10 8:26       3.39   \n",
       "4       RED WOOLLY HOTTIE WHITE HEART.         6  12/1/10 8:26       3.39   \n",
       "\n",
       "   CustomerID         Country  \n",
       "0     17850.0  United Kingdom  \n",
       "1     17850.0  United Kingdom  \n",
       "2     17850.0  United Kingdom  \n",
       "3     17850.0  United Kingdom  \n",
       "4     17850.0  United Kingdom  "
      ]
     },
     "execution_count": 3,
     "metadata": {},
     "output_type": "execute_result"
    }
   ],
   "source": [
    "df = pd.read_csv('Online_Retail.csv')\n",
    "df.head()"
   ]
  },
  {
   "cell_type": "markdown",
   "metadata": {},
   "source": [
    "### A.2 Data Cleaning"
   ]
  },
  {
   "cell_type": "code",
   "execution_count": 4,
   "metadata": {},
   "outputs": [
    {
     "name": "stdout",
     "output_type": "stream",
     "text": [
      "Unnamed: 0.1         0\n",
      "Unnamed: 0           0\n",
      "InvoiceNo            0\n",
      "StockCode            0\n",
      "Description       1454\n",
      "Quantity             0\n",
      "InvoiceDate          0\n",
      "UnitPrice            0\n",
      "CustomerID      135080\n",
      "Country              0\n",
      "dtype: int64\n",
      "(541909, 10)\n"
     ]
    }
   ],
   "source": [
    "print(df.isnull().sum())\n",
    "print(df.shape)\n"
   ]
  },
  {
   "cell_type": "markdown",
   "metadata": {},
   "source": [
    "# B. Exploratory Data Analysis (EDA)"
   ]
  },
  {
   "cell_type": "markdown",
   "metadata": {},
   "source": [
    "### B.1 Data Preprocessing + Analisis"
   ]
  },
  {
   "cell_type": "markdown",
   "metadata": {},
   "source": [
    "B.1.1 Menghapus baris yang memiliki nilai null, mereset index nya lalu menghitung nilai null dan menampilkan panjang data"
   ]
  },
  {
   "cell_type": "code",
   "execution_count": 5,
   "metadata": {},
   "outputs": [
    {
     "name": "stdout",
     "output_type": "stream",
     "text": [
      "index           0\n",
      "Unnamed: 0.1    0\n",
      "Unnamed: 0      0\n",
      "InvoiceNo       0\n",
      "StockCode       0\n",
      "Description     0\n",
      "Quantity        0\n",
      "InvoiceDate     0\n",
      "UnitPrice       0\n",
      "CustomerID      0\n",
      "Country         0\n",
      "dtype: int64\n",
      "(406829, 11)\n"
     ]
    }
   ],
   "source": [
    "df_cln = df.dropna().reset_index()\n",
    "print(df_cln.isnull().sum())\n",
    "print(df_cln.shape)"
   ]
  },
  {
   "cell_type": "markdown",
   "metadata": {},
   "source": [
    "B.1.2 Melihat Informasi dan Deskripsi Data"
   ]
  },
  {
   "cell_type": "code",
   "execution_count": 6,
   "metadata": {},
   "outputs": [
    {
     "name": "stdout",
     "output_type": "stream",
     "text": [
      "<class 'pandas.core.frame.DataFrame'>\n",
      "RangeIndex: 541909 entries, 0 to 541908\n",
      "Data columns (total 10 columns):\n",
      " #   Column        Non-Null Count   Dtype  \n",
      "---  ------        --------------   -----  \n",
      " 0   Unnamed: 0.1  541909 non-null  int64  \n",
      " 1   Unnamed: 0    541909 non-null  int64  \n",
      " 2   InvoiceNo     541909 non-null  object \n",
      " 3   StockCode     541909 non-null  object \n",
      " 4   Description   540455 non-null  object \n",
      " 5   Quantity      541909 non-null  int64  \n",
      " 6   InvoiceDate   541909 non-null  object \n",
      " 7   UnitPrice     541909 non-null  float64\n",
      " 8   CustomerID    406829 non-null  float64\n",
      " 9   Country       541909 non-null  object \n",
      "dtypes: float64(2), int64(3), object(5)\n",
      "memory usage: 41.3+ MB\n"
     ]
    }
   ],
   "source": [
    "df.info()"
   ]
  },
  {
   "cell_type": "code",
   "execution_count": 7,
   "metadata": {},
   "outputs": [
    {
     "data": {
      "text/html": [
       "<div>\n",
       "<style scoped>\n",
       "    .dataframe tbody tr th:only-of-type {\n",
       "        vertical-align: middle;\n",
       "    }\n",
       "\n",
       "    .dataframe tbody tr th {\n",
       "        vertical-align: top;\n",
       "    }\n",
       "\n",
       "    .dataframe thead th {\n",
       "        text-align: right;\n",
       "    }\n",
       "</style>\n",
       "<table border=\"1\" class=\"dataframe\">\n",
       "  <thead>\n",
       "    <tr style=\"text-align: right;\">\n",
       "      <th></th>\n",
       "      <th>Unnamed: 0.1</th>\n",
       "      <th>Unnamed: 0</th>\n",
       "      <th>Quantity</th>\n",
       "      <th>UnitPrice</th>\n",
       "      <th>CustomerID</th>\n",
       "    </tr>\n",
       "  </thead>\n",
       "  <tbody>\n",
       "    <tr>\n",
       "      <th>count</th>\n",
       "      <td>541909.000000</td>\n",
       "      <td>541909.000000</td>\n",
       "      <td>541909.000000</td>\n",
       "      <td>541909.000000</td>\n",
       "      <td>406829.000000</td>\n",
       "    </tr>\n",
       "    <tr>\n",
       "      <th>mean</th>\n",
       "      <td>270954.000000</td>\n",
       "      <td>270954.000000</td>\n",
       "      <td>9.552250</td>\n",
       "      <td>4.611114</td>\n",
       "      <td>15287.690570</td>\n",
       "    </tr>\n",
       "    <tr>\n",
       "      <th>std</th>\n",
       "      <td>156435.797851</td>\n",
       "      <td>156435.797851</td>\n",
       "      <td>218.081158</td>\n",
       "      <td>96.759853</td>\n",
       "      <td>1713.600303</td>\n",
       "    </tr>\n",
       "    <tr>\n",
       "      <th>min</th>\n",
       "      <td>0.000000</td>\n",
       "      <td>0.000000</td>\n",
       "      <td>-80995.000000</td>\n",
       "      <td>-11062.060000</td>\n",
       "      <td>12346.000000</td>\n",
       "    </tr>\n",
       "    <tr>\n",
       "      <th>25%</th>\n",
       "      <td>135477.000000</td>\n",
       "      <td>135477.000000</td>\n",
       "      <td>1.000000</td>\n",
       "      <td>1.250000</td>\n",
       "      <td>13953.000000</td>\n",
       "    </tr>\n",
       "    <tr>\n",
       "      <th>50%</th>\n",
       "      <td>270954.000000</td>\n",
       "      <td>270954.000000</td>\n",
       "      <td>3.000000</td>\n",
       "      <td>2.080000</td>\n",
       "      <td>15152.000000</td>\n",
       "    </tr>\n",
       "    <tr>\n",
       "      <th>75%</th>\n",
       "      <td>406431.000000</td>\n",
       "      <td>406431.000000</td>\n",
       "      <td>10.000000</td>\n",
       "      <td>4.130000</td>\n",
       "      <td>16791.000000</td>\n",
       "    </tr>\n",
       "    <tr>\n",
       "      <th>max</th>\n",
       "      <td>541908.000000</td>\n",
       "      <td>541908.000000</td>\n",
       "      <td>80995.000000</td>\n",
       "      <td>38970.000000</td>\n",
       "      <td>18287.000000</td>\n",
       "    </tr>\n",
       "  </tbody>\n",
       "</table>\n",
       "</div>"
      ],
      "text/plain": [
       "        Unnamed: 0.1     Unnamed: 0       Quantity      UnitPrice  \\\n",
       "count  541909.000000  541909.000000  541909.000000  541909.000000   \n",
       "mean   270954.000000  270954.000000       9.552250       4.611114   \n",
       "std    156435.797851  156435.797851     218.081158      96.759853   \n",
       "min         0.000000       0.000000  -80995.000000  -11062.060000   \n",
       "25%    135477.000000  135477.000000       1.000000       1.250000   \n",
       "50%    270954.000000  270954.000000       3.000000       2.080000   \n",
       "75%    406431.000000  406431.000000      10.000000       4.130000   \n",
       "max    541908.000000  541908.000000   80995.000000   38970.000000   \n",
       "\n",
       "          CustomerID  \n",
       "count  406829.000000  \n",
       "mean    15287.690570  \n",
       "std      1713.600303  \n",
       "min     12346.000000  \n",
       "25%     13953.000000  \n",
       "50%     15152.000000  \n",
       "75%     16791.000000  \n",
       "max     18287.000000  "
      ]
     },
     "execution_count": 7,
     "metadata": {},
     "output_type": "execute_result"
    }
   ],
   "source": [
    "df.describe()"
   ]
  },
  {
   "cell_type": "markdown",
   "metadata": {},
   "source": [
    "B.1.3 Menghitung banyak barang yang sudah dibeli setiap customer lalu menjadikannya DataFrame"
   ]
  },
  {
   "cell_type": "code",
   "execution_count": 8,
   "metadata": {},
   "outputs": [
    {
     "data": {
      "text/html": [
       "<div>\n",
       "<style scoped>\n",
       "    .dataframe tbody tr th:only-of-type {\n",
       "        vertical-align: middle;\n",
       "    }\n",
       "\n",
       "    .dataframe tbody tr th {\n",
       "        vertical-align: top;\n",
       "    }\n",
       "\n",
       "    .dataframe thead th {\n",
       "        text-align: right;\n",
       "    }\n",
       "</style>\n",
       "<table border=\"1\" class=\"dataframe\">\n",
       "  <thead>\n",
       "    <tr style=\"text-align: right;\">\n",
       "      <th></th>\n",
       "      <th>Customer_Id</th>\n",
       "      <th>Total_Pembelian</th>\n",
       "    </tr>\n",
       "  </thead>\n",
       "  <tbody>\n",
       "    <tr>\n",
       "      <th>0</th>\n",
       "      <td>12346.0</td>\n",
       "      <td>0.00</td>\n",
       "    </tr>\n",
       "    <tr>\n",
       "      <th>1</th>\n",
       "      <td>12347.0</td>\n",
       "      <td>4310.00</td>\n",
       "    </tr>\n",
       "    <tr>\n",
       "      <th>2</th>\n",
       "      <td>12348.0</td>\n",
       "      <td>1797.24</td>\n",
       "    </tr>\n",
       "    <tr>\n",
       "      <th>3</th>\n",
       "      <td>12349.0</td>\n",
       "      <td>1757.55</td>\n",
       "    </tr>\n",
       "    <tr>\n",
       "      <th>4</th>\n",
       "      <td>12350.0</td>\n",
       "      <td>334.40</td>\n",
       "    </tr>\n",
       "    <tr>\n",
       "      <th>...</th>\n",
       "      <td>...</td>\n",
       "      <td>...</td>\n",
       "    </tr>\n",
       "    <tr>\n",
       "      <th>4367</th>\n",
       "      <td>18280.0</td>\n",
       "      <td>180.60</td>\n",
       "    </tr>\n",
       "    <tr>\n",
       "      <th>4368</th>\n",
       "      <td>18281.0</td>\n",
       "      <td>80.82</td>\n",
       "    </tr>\n",
       "    <tr>\n",
       "      <th>4369</th>\n",
       "      <td>18282.0</td>\n",
       "      <td>176.60</td>\n",
       "    </tr>\n",
       "    <tr>\n",
       "      <th>4370</th>\n",
       "      <td>18283.0</td>\n",
       "      <td>2094.88</td>\n",
       "    </tr>\n",
       "    <tr>\n",
       "      <th>4371</th>\n",
       "      <td>18287.0</td>\n",
       "      <td>1837.28</td>\n",
       "    </tr>\n",
       "  </tbody>\n",
       "</table>\n",
       "<p>4372 rows × 2 columns</p>\n",
       "</div>"
      ],
      "text/plain": [
       "      Customer_Id  Total_Pembelian\n",
       "0         12346.0             0.00\n",
       "1         12347.0          4310.00\n",
       "2         12348.0          1797.24\n",
       "3         12349.0          1757.55\n",
       "4         12350.0           334.40\n",
       "...           ...              ...\n",
       "4367      18280.0           180.60\n",
       "4368      18281.0            80.82\n",
       "4369      18282.0           176.60\n",
       "4370      18283.0          2094.88\n",
       "4371      18287.0          1837.28\n",
       "\n",
       "[4372 rows x 2 columns]"
      ]
     },
     "execution_count": 8,
     "metadata": {},
     "output_type": "execute_result"
    }
   ],
   "source": [
    "df_cln ['CustomerID'] = df_cln['CustomerID']\n",
    "df_cln ['TotalPembelian'] = df_cln['Quantity'] * df_cln['UnitPrice']\n",
    "totalbeli = df_cln.groupby('CustomerID')['TotalPembelian'].sum().reset_index()\n",
    "totalbeli.columns = ['Customer_Id', 'Total_Pembelian']\n",
    "totalbeli = pd.DataFrame(totalbeli)\n",
    "totalbeli \n",
    " "
   ]
  },
  {
   "cell_type": "markdown",
   "metadata": {},
   "source": [
    "B.1.4 Menghitung sudah berapa banyak setiap customer melakukan transaksi lalu menjadikannya DataFrame"
   ]
  },
  {
   "cell_type": "code",
   "execution_count": 9,
   "metadata": {},
   "outputs": [
    {
     "data": {
      "text/html": [
       "<div>\n",
       "<style scoped>\n",
       "    .dataframe tbody tr th:only-of-type {\n",
       "        vertical-align: middle;\n",
       "    }\n",
       "\n",
       "    .dataframe tbody tr th {\n",
       "        vertical-align: top;\n",
       "    }\n",
       "\n",
       "    .dataframe thead th {\n",
       "        text-align: right;\n",
       "    }\n",
       "</style>\n",
       "<table border=\"1\" class=\"dataframe\">\n",
       "  <thead>\n",
       "    <tr style=\"text-align: right;\">\n",
       "      <th></th>\n",
       "      <th>Customer_Id</th>\n",
       "      <th>Jumlah_Transaksi</th>\n",
       "    </tr>\n",
       "  </thead>\n",
       "  <tbody>\n",
       "    <tr>\n",
       "      <th>0</th>\n",
       "      <td>12346.0</td>\n",
       "      <td>2</td>\n",
       "    </tr>\n",
       "    <tr>\n",
       "      <th>1</th>\n",
       "      <td>12347.0</td>\n",
       "      <td>182</td>\n",
       "    </tr>\n",
       "    <tr>\n",
       "      <th>2</th>\n",
       "      <td>12348.0</td>\n",
       "      <td>31</td>\n",
       "    </tr>\n",
       "    <tr>\n",
       "      <th>3</th>\n",
       "      <td>12349.0</td>\n",
       "      <td>73</td>\n",
       "    </tr>\n",
       "    <tr>\n",
       "      <th>4</th>\n",
       "      <td>12350.0</td>\n",
       "      <td>17</td>\n",
       "    </tr>\n",
       "    <tr>\n",
       "      <th>...</th>\n",
       "      <td>...</td>\n",
       "      <td>...</td>\n",
       "    </tr>\n",
       "    <tr>\n",
       "      <th>4367</th>\n",
       "      <td>18280.0</td>\n",
       "      <td>10</td>\n",
       "    </tr>\n",
       "    <tr>\n",
       "      <th>4368</th>\n",
       "      <td>18281.0</td>\n",
       "      <td>7</td>\n",
       "    </tr>\n",
       "    <tr>\n",
       "      <th>4369</th>\n",
       "      <td>18282.0</td>\n",
       "      <td>13</td>\n",
       "    </tr>\n",
       "    <tr>\n",
       "      <th>4370</th>\n",
       "      <td>18283.0</td>\n",
       "      <td>756</td>\n",
       "    </tr>\n",
       "    <tr>\n",
       "      <th>4371</th>\n",
       "      <td>18287.0</td>\n",
       "      <td>70</td>\n",
       "    </tr>\n",
       "  </tbody>\n",
       "</table>\n",
       "<p>4372 rows × 2 columns</p>\n",
       "</div>"
      ],
      "text/plain": [
       "      Customer_Id  Jumlah_Transaksi\n",
       "0         12346.0                 2\n",
       "1         12347.0               182\n",
       "2         12348.0                31\n",
       "3         12349.0                73\n",
       "4         12350.0                17\n",
       "...           ...               ...\n",
       "4367      18280.0                10\n",
       "4368      18281.0                 7\n",
       "4369      18282.0                13\n",
       "4370      18283.0               756\n",
       "4371      18287.0                70\n",
       "\n",
       "[4372 rows x 2 columns]"
      ]
     },
     "execution_count": 9,
     "metadata": {},
     "output_type": "execute_result"
    }
   ],
   "source": [
    "Banyaktransaksi = df_cln.groupby('CustomerID')['InvoiceNo'].count().reset_index()\n",
    "Banyaktransaksi.columns = ['Customer_Id', 'Jumlah_Transaksi']\n",
    "Banyaktransaksi = pd.DataFrame(Banyaktransaksi)\n",
    "Banyaktransaksi"
   ]
  },
  {
   "cell_type": "markdown",
   "metadata": {},
   "source": [
    "B.1.5 Menghitung kapan terakhir kali customer membeli barang di toko, dihitung dari tanggal paling baru di data"
   ]
  },
  {
   "cell_type": "code",
   "execution_count": 10,
   "metadata": {},
   "outputs": [
    {
     "data": {
      "text/plain": [
       "0          12/1/10 8:26\n",
       "1          12/1/10 8:26\n",
       "2          12/1/10 8:26\n",
       "3          12/1/10 8:26\n",
       "4          12/1/10 8:26\n",
       "              ...      \n",
       "406824    12/9/11 12:50\n",
       "406825    12/9/11 12:50\n",
       "406826    12/9/11 12:50\n",
       "406827    12/9/11 12:50\n",
       "406828    12/9/11 12:50\n",
       "Name: InvoiceDate, Length: 406829, dtype: object"
      ]
     },
     "execution_count": 10,
     "metadata": {},
     "output_type": "execute_result"
    }
   ],
   "source": [
    "df_cln['InvoiceDate']"
   ]
  },
  {
   "cell_type": "code",
   "execution_count": 11,
   "metadata": {},
   "outputs": [
    {
     "data": {
      "text/html": [
       "<div>\n",
       "<style scoped>\n",
       "    .dataframe tbody tr th:only-of-type {\n",
       "        vertical-align: middle;\n",
       "    }\n",
       "\n",
       "    .dataframe tbody tr th {\n",
       "        vertical-align: top;\n",
       "    }\n",
       "\n",
       "    .dataframe thead th {\n",
       "        text-align: right;\n",
       "    }\n",
       "</style>\n",
       "<table border=\"1\" class=\"dataframe\">\n",
       "  <thead>\n",
       "    <tr style=\"text-align: right;\">\n",
       "      <th></th>\n",
       "      <th>Customer_Id</th>\n",
       "      <th>Terakhir_Pembelian</th>\n",
       "    </tr>\n",
       "  </thead>\n",
       "  <tbody>\n",
       "    <tr>\n",
       "      <th>0</th>\n",
       "      <td>12346.0</td>\n",
       "      <td>325</td>\n",
       "    </tr>\n",
       "    <tr>\n",
       "      <th>1</th>\n",
       "      <td>12347.0</td>\n",
       "      <td>1</td>\n",
       "    </tr>\n",
       "    <tr>\n",
       "      <th>2</th>\n",
       "      <td>12348.0</td>\n",
       "      <td>74</td>\n",
       "    </tr>\n",
       "    <tr>\n",
       "      <th>3</th>\n",
       "      <td>12349.0</td>\n",
       "      <td>18</td>\n",
       "    </tr>\n",
       "    <tr>\n",
       "      <th>4</th>\n",
       "      <td>12350.0</td>\n",
       "      <td>309</td>\n",
       "    </tr>\n",
       "    <tr>\n",
       "      <th>...</th>\n",
       "      <td>...</td>\n",
       "      <td>...</td>\n",
       "    </tr>\n",
       "    <tr>\n",
       "      <th>4367</th>\n",
       "      <td>18280.0</td>\n",
       "      <td>277</td>\n",
       "    </tr>\n",
       "    <tr>\n",
       "      <th>4368</th>\n",
       "      <td>18281.0</td>\n",
       "      <td>180</td>\n",
       "    </tr>\n",
       "    <tr>\n",
       "      <th>4369</th>\n",
       "      <td>18282.0</td>\n",
       "      <td>7</td>\n",
       "    </tr>\n",
       "    <tr>\n",
       "      <th>4370</th>\n",
       "      <td>18283.0</td>\n",
       "      <td>3</td>\n",
       "    </tr>\n",
       "    <tr>\n",
       "      <th>4371</th>\n",
       "      <td>18287.0</td>\n",
       "      <td>42</td>\n",
       "    </tr>\n",
       "  </tbody>\n",
       "</table>\n",
       "<p>4372 rows × 2 columns</p>\n",
       "</div>"
      ],
      "text/plain": [
       "      Customer_Id  Terakhir_Pembelian\n",
       "0         12346.0                 325\n",
       "1         12347.0                   1\n",
       "2         12348.0                  74\n",
       "3         12349.0                  18\n",
       "4         12350.0                 309\n",
       "...           ...                 ...\n",
       "4367      18280.0                 277\n",
       "4368      18281.0                 180\n",
       "4369      18282.0                   7\n",
       "4370      18283.0                   3\n",
       "4371      18287.0                  42\n",
       "\n",
       "[4372 rows x 2 columns]"
      ]
     },
     "execution_count": 11,
     "metadata": {},
     "output_type": "execute_result"
    }
   ],
   "source": [
    "df_cln['InvoiceDate'] = pd.to_datetime(df_cln['InvoiceDate'],format = '%m/%d/%y %H:%M')\n",
    "tanggal_max = max(df_cln['InvoiceDate'])\n",
    "df_cln['Terakhir_Pembelian'] = tanggal_max - df_cln['InvoiceDate']\n",
    "terakhirpembelian = df_cln.groupby('CustomerID')['Terakhir_Pembelian'].min().reset_index()\n",
    "terakhirpembelian.columns = ['Customer_Id', 'Terakhir_Pembelian']\n",
    "# konversi terakhir pembelian dari tipe data timedelta ke jumlah hari menggunakan metode .dt.days.\n",
    "terakhirpembelian['Terakhir_Pembelian'] = terakhirpembelian['Terakhir_Pembelian'].dt.days\n",
    "terakhirpembelian = pd.DataFrame(terakhirpembelian)\n",
    "terakhirpembelian\n"
   ]
  },
  {
   "cell_type": "markdown",
   "metadata": {},
   "source": [
    "B.1.6 Menggabungkan 3 data diatas berdasarkan customer id menggunakan merge"
   ]
  },
  {
   "cell_type": "code",
   "execution_count": 12,
   "metadata": {},
   "outputs": [
    {
     "data": {
      "text/html": [
       "<div>\n",
       "<style scoped>\n",
       "    .dataframe tbody tr th:only-of-type {\n",
       "        vertical-align: middle;\n",
       "    }\n",
       "\n",
       "    .dataframe tbody tr th {\n",
       "        vertical-align: top;\n",
       "    }\n",
       "\n",
       "    .dataframe thead th {\n",
       "        text-align: right;\n",
       "    }\n",
       "</style>\n",
       "<table border=\"1\" class=\"dataframe\">\n",
       "  <thead>\n",
       "    <tr style=\"text-align: right;\">\n",
       "      <th></th>\n",
       "      <th>Customer_Id</th>\n",
       "      <th>Total_Pembelian</th>\n",
       "      <th>Jumlah_Transaksi</th>\n",
       "      <th>Terakhir_Pembelian</th>\n",
       "    </tr>\n",
       "  </thead>\n",
       "  <tbody>\n",
       "    <tr>\n",
       "      <th>0</th>\n",
       "      <td>12346.0</td>\n",
       "      <td>0.00</td>\n",
       "      <td>2</td>\n",
       "      <td>325</td>\n",
       "    </tr>\n",
       "    <tr>\n",
       "      <th>1</th>\n",
       "      <td>12347.0</td>\n",
       "      <td>4310.00</td>\n",
       "      <td>182</td>\n",
       "      <td>1</td>\n",
       "    </tr>\n",
       "    <tr>\n",
       "      <th>2</th>\n",
       "      <td>12348.0</td>\n",
       "      <td>1797.24</td>\n",
       "      <td>31</td>\n",
       "      <td>74</td>\n",
       "    </tr>\n",
       "    <tr>\n",
       "      <th>3</th>\n",
       "      <td>12349.0</td>\n",
       "      <td>1757.55</td>\n",
       "      <td>73</td>\n",
       "      <td>18</td>\n",
       "    </tr>\n",
       "    <tr>\n",
       "      <th>4</th>\n",
       "      <td>12350.0</td>\n",
       "      <td>334.40</td>\n",
       "      <td>17</td>\n",
       "      <td>309</td>\n",
       "    </tr>\n",
       "    <tr>\n",
       "      <th>...</th>\n",
       "      <td>...</td>\n",
       "      <td>...</td>\n",
       "      <td>...</td>\n",
       "      <td>...</td>\n",
       "    </tr>\n",
       "    <tr>\n",
       "      <th>4367</th>\n",
       "      <td>18280.0</td>\n",
       "      <td>180.60</td>\n",
       "      <td>10</td>\n",
       "      <td>277</td>\n",
       "    </tr>\n",
       "    <tr>\n",
       "      <th>4368</th>\n",
       "      <td>18281.0</td>\n",
       "      <td>80.82</td>\n",
       "      <td>7</td>\n",
       "      <td>180</td>\n",
       "    </tr>\n",
       "    <tr>\n",
       "      <th>4369</th>\n",
       "      <td>18282.0</td>\n",
       "      <td>176.60</td>\n",
       "      <td>13</td>\n",
       "      <td>7</td>\n",
       "    </tr>\n",
       "    <tr>\n",
       "      <th>4370</th>\n",
       "      <td>18283.0</td>\n",
       "      <td>2094.88</td>\n",
       "      <td>756</td>\n",
       "      <td>3</td>\n",
       "    </tr>\n",
       "    <tr>\n",
       "      <th>4371</th>\n",
       "      <td>18287.0</td>\n",
       "      <td>1837.28</td>\n",
       "      <td>70</td>\n",
       "      <td>42</td>\n",
       "    </tr>\n",
       "  </tbody>\n",
       "</table>\n",
       "<p>4372 rows × 4 columns</p>\n",
       "</div>"
      ],
      "text/plain": [
       "      Customer_Id  Total_Pembelian  Jumlah_Transaksi  Terakhir_Pembelian\n",
       "0         12346.0             0.00                 2                 325\n",
       "1         12347.0          4310.00               182                   1\n",
       "2         12348.0          1797.24                31                  74\n",
       "3         12349.0          1757.55                73                  18\n",
       "4         12350.0           334.40                17                 309\n",
       "...           ...              ...               ...                 ...\n",
       "4367      18280.0           180.60                10                 277\n",
       "4368      18281.0            80.82                 7                 180\n",
       "4369      18282.0           176.60                13                   7\n",
       "4370      18283.0          2094.88               756                   3\n",
       "4371      18287.0          1837.28                70                  42\n",
       "\n",
       "[4372 rows x 4 columns]"
      ]
     },
     "execution_count": 12,
     "metadata": {},
     "output_type": "execute_result"
    }
   ],
   "source": [
    "new_data = totalbeli.merge(Banyaktransaksi, on='Customer_Id').merge(terakhirpembelian, on='Customer_Id')\n",
    "new_data"
   ]
  },
  {
   "cell_type": "markdown",
   "metadata": {},
   "source": [
    "B.1.7 Dari data tersebut yang saya butuhkan hanya 3 kolom terakhir jadi agar memudahkan, saya menghapus kolom Customer_Id "
   ]
  },
  {
   "cell_type": "code",
   "execution_count": 13,
   "metadata": {},
   "outputs": [
    {
     "data": {
      "text/html": [
       "<div>\n",
       "<style scoped>\n",
       "    .dataframe tbody tr th:only-of-type {\n",
       "        vertical-align: middle;\n",
       "    }\n",
       "\n",
       "    .dataframe tbody tr th {\n",
       "        vertical-align: top;\n",
       "    }\n",
       "\n",
       "    .dataframe thead th {\n",
       "        text-align: right;\n",
       "    }\n",
       "</style>\n",
       "<table border=\"1\" class=\"dataframe\">\n",
       "  <thead>\n",
       "    <tr style=\"text-align: right;\">\n",
       "      <th></th>\n",
       "      <th>Total_Pembelian</th>\n",
       "      <th>Jumlah_Transaksi</th>\n",
       "      <th>Terakhir_Pembelian</th>\n",
       "    </tr>\n",
       "  </thead>\n",
       "  <tbody>\n",
       "    <tr>\n",
       "      <th>0</th>\n",
       "      <td>0.00</td>\n",
       "      <td>2</td>\n",
       "      <td>325</td>\n",
       "    </tr>\n",
       "    <tr>\n",
       "      <th>1</th>\n",
       "      <td>4310.00</td>\n",
       "      <td>182</td>\n",
       "      <td>1</td>\n",
       "    </tr>\n",
       "    <tr>\n",
       "      <th>2</th>\n",
       "      <td>1797.24</td>\n",
       "      <td>31</td>\n",
       "      <td>74</td>\n",
       "    </tr>\n",
       "    <tr>\n",
       "      <th>3</th>\n",
       "      <td>1757.55</td>\n",
       "      <td>73</td>\n",
       "      <td>18</td>\n",
       "    </tr>\n",
       "    <tr>\n",
       "      <th>4</th>\n",
       "      <td>334.40</td>\n",
       "      <td>17</td>\n",
       "      <td>309</td>\n",
       "    </tr>\n",
       "    <tr>\n",
       "      <th>...</th>\n",
       "      <td>...</td>\n",
       "      <td>...</td>\n",
       "      <td>...</td>\n",
       "    </tr>\n",
       "    <tr>\n",
       "      <th>4367</th>\n",
       "      <td>180.60</td>\n",
       "      <td>10</td>\n",
       "      <td>277</td>\n",
       "    </tr>\n",
       "    <tr>\n",
       "      <th>4368</th>\n",
       "      <td>80.82</td>\n",
       "      <td>7</td>\n",
       "      <td>180</td>\n",
       "    </tr>\n",
       "    <tr>\n",
       "      <th>4369</th>\n",
       "      <td>176.60</td>\n",
       "      <td>13</td>\n",
       "      <td>7</td>\n",
       "    </tr>\n",
       "    <tr>\n",
       "      <th>4370</th>\n",
       "      <td>2094.88</td>\n",
       "      <td>756</td>\n",
       "      <td>3</td>\n",
       "    </tr>\n",
       "    <tr>\n",
       "      <th>4371</th>\n",
       "      <td>1837.28</td>\n",
       "      <td>70</td>\n",
       "      <td>42</td>\n",
       "    </tr>\n",
       "  </tbody>\n",
       "</table>\n",
       "<p>4372 rows × 3 columns</p>\n",
       "</div>"
      ],
      "text/plain": [
       "      Total_Pembelian  Jumlah_Transaksi  Terakhir_Pembelian\n",
       "0                0.00                 2                 325\n",
       "1             4310.00               182                   1\n",
       "2             1797.24                31                  74\n",
       "3             1757.55                73                  18\n",
       "4              334.40                17                 309\n",
       "...               ...               ...                 ...\n",
       "4367           180.60                10                 277\n",
       "4368            80.82                 7                 180\n",
       "4369           176.60                13                   7\n",
       "4370          2094.88               756                   3\n",
       "4371          1837.28                70                  42\n",
       "\n",
       "[4372 rows x 3 columns]"
      ]
     },
     "execution_count": 13,
     "metadata": {},
     "output_type": "execute_result"
    }
   ],
   "source": [
    "df = new_data.drop('Customer_Id', axis = 1)\n",
    "df"
   ]
  },
  {
   "cell_type": "markdown",
   "metadata": {},
   "source": [
    "B.1.8 Visualisasi Boxplot untuk cek Outlier "
   ]
  },
  {
   "cell_type": "code",
   "execution_count": 14,
   "metadata": {},
   "outputs": [
    {
     "data": {
      "text/plain": [
       "<Axes: >"
      ]
     },
     "execution_count": 14,
     "metadata": {},
     "output_type": "execute_result"
    },
    {
     "data": {
      "image/png": "[encoded data removed]",
      "text/plain": [
       "<Figure size 640x480 with 1 Axes>"
      ]
     },
     "metadata": {},
     "output_type": "display_data"
    }
   ],
   "source": [
    "sns.boxplot(df)"
   ]
  },
  {
   "cell_type": "markdown",
   "metadata": {},
   "source": [
    "B.1.9 Menangani Outlier dengan iqr"
   ]
  },
  {
   "cell_type": "code",
   "execution_count": 15,
   "metadata": {},
   "outputs": [
    {
     "data": {
      "text/plain": [
       "1318.3625"
      ]
     },
     "execution_count": 15,
     "metadata": {},
     "output_type": "execute_result"
    }
   ],
   "source": [
    "q1 = df.Total_Pembelian.quantile(0.25)\n",
    "q3 = df.Total_Pembelian.quantile(0.75)\n",
    "iqr = q3 - q1\n",
    "iqr"
   ]
  },
  {
   "cell_type": "code",
   "execution_count": 16,
   "metadata": {},
   "outputs": [],
   "source": [
    "# df = df[~((df.Total_Pembelian < (q1 - 1.5*iqr))| (df.Total_Pembelian > (q3 + 1.5*iqr)))]\n",
    "\n",
    "\n",
    "# outlier = df[(df.Total_Pembelian < (q1 - 1.5*iqr))| (df.Total_Pembelian > (q3 + 1.5*iqr))]\n",
    "# median_value = df['Total_Pembelian'].mode()\n",
    "# df.loc[outlier.index, 'Total_Pembelian'] = median_value\n",
    "\n",
    "# mengatasi outlier kolom total pembelian\n",
    "q1 = df.Total_Pembelian.quantile(0.25)\n",
    "q3 = df.Total_Pembelian.quantile(0.75)\n",
    "iqr = q3 - q1\n",
    "df = df[(df.Total_Pembelian >= q1 - 1.5*iqr) & (df.Total_Pembelian <= q3 + 1.5*iqr)]\n",
    "\n",
    "# mengatasi outlier kolom jumlah transaksi\n",
    "q1 = df.Jumlah_Transaksi.quantile(0.25)\n",
    "q3 = df.Jumlah_Transaksi.quantile(0.75)\n",
    "iqr = q3 - q1\n",
    "df = df[(df.Jumlah_Transaksi >= q1 - 1.5*iqr) & (df.Jumlah_Transaksi <= q3 + 1.5*iqr)]\n",
    "\n",
    "# mengatasi outlier kolom terakhir pembelian\n",
    "q1 = df.Terakhir_Pembelian.quantile(0.25)\n",
    "q3 = df.Terakhir_Pembelian.quantile(0.75)\n",
    "iqr = q3 - q1\n",
    "df = df[(df.Terakhir_Pembelian >= q1 - 1.5*iqr) & (df.Terakhir_Pembelian <= q3 + 1.5*iqr)]"
   ]
  },
  {
   "cell_type": "code",
   "execution_count": 17,
   "metadata": {},
   "outputs": [
    {
     "data": {
      "text/plain": [
       "(3697, 3)"
      ]
     },
     "execution_count": 17,
     "metadata": {},
     "output_type": "execute_result"
    }
   ],
   "source": [
    "df.shape"
   ]
  },
  {
   "cell_type": "markdown",
   "metadata": {},
   "source": [
    "B.1.10 Mengubah skala menggunakan minmaxscaler, serta memilih variabel yang dipakai untuk tipe tipe pelanggan yaitu 3 kolom yang Customer_id nya dihapus tadi"
   ]
  },
  {
   "cell_type": "code",
   "execution_count": 18,
   "metadata": {},
   "outputs": [
    {
     "data": {
      "text/plain": [
       "array([[0.30884115, 0.00564972, 0.87131367],\n",
       "       [0.65739071, 0.16949153, 0.19839142],\n",
       "       [0.64969339, 0.40677966, 0.04825737],\n",
       "       ...,\n",
       "       [0.32451506, 0.03389831, 0.48257373],\n",
       "       [0.34309025, 0.06779661, 0.01876676],\n",
       "       [0.66515591, 0.38983051, 0.11260054]])"
      ]
     },
     "execution_count": 18,
     "metadata": {},
     "output_type": "execute_result"
    }
   ],
   "source": [
    "scaler = MinMaxScaler()\n",
    "x = df\n",
    "df_scaled = scaler.fit_transform(x)\n",
    "df_scaled"
   ]
  },
  {
   "cell_type": "markdown",
   "metadata": {},
   "source": [
    "# C. Permodelan Data"
   ]
  },
  {
   "cell_type": "markdown",
   "metadata": {},
   "source": [
    "### C.1 Define Algorithm"
   ]
  },
  {
   "cell_type": "code",
   "execution_count": 19,
   "metadata": {},
   "outputs": [],
   "source": [
    "from sklearn.metrics import silhouette_score\n",
    "# model \n",
    "wcss = [] # untuk menampung within cluster sum of squares"
   ]
  },
  {
   "cell_type": "code",
   "execution_count": 20,
   "metadata": {},
   "outputs": [],
   "source": [
    "# membuat for loop untuk setiap cluster di range 1 sampai 10\n",
    "for i in range (1,11) : \n",
    "    kmeans = KMeans(n_clusters=i, n_init=10) # n_cluster = jumlah cluster n_init = mengontrol jumlah kali pemilihan pusat klaster akan dilakukan dengan inisialisasi yang berbeda\n",
    "    kmeans.fit(x)\n",
    "    wcss.append(kmeans.inertia_) # inertia untuk memberi nilai wcss "
   ]
  },
  {
   "cell_type": "markdown",
   "metadata": {},
   "source": [
    "C.1.1 Menentukan jumlah pusat cluster dengan Elbow Method"
   ]
  },
  {
   "cell_type": "code",
   "execution_count": 21,
   "metadata": {},
   "outputs": [
    {
     "data": {
      "text/plain": [
       "Text(0.5, 0, 'wcss')"
      ]
     },
     "execution_count": 21,
     "metadata": {},
     "output_type": "execute_result"
    },
    {
     "data": {
      "image/png": "[encoded data removed]",
      "text/plain": [
       "<Figure size 640x480 with 1 Axes>"
      ]
     },
     "metadata": {},
     "output_type": "display_data"
    }
   ],
   "source": [
    "plt.plot(range(1,11), wcss)\n",
    "plt.title('Elbow Method')\n",
    "plt.xlabel('Number Of Cluster')\n",
    "plt.xlabel('wcss')"
   ]
  },
  {
   "cell_type": "markdown",
   "metadata": {},
   "source": [
    "C.1.2 Menentukan jumlah pusat cluster dengan silhouette_score"
   ]
  },
  {
   "cell_type": "code",
   "execution_count": 22,
   "metadata": {},
   "outputs": [
    {
     "name": "stdout",
     "output_type": "stream",
     "text": [
      "For n_clusters=2, the silhouette score is 0.6770650364586208\n",
      "For n_clusters=3, the silhouette score is 0.593017271418894\n",
      "For n_clusters=4, the silhouette score is 0.5227172677339016\n",
      "For n_clusters=5, the silhouette score is 0.48340882863313245\n",
      "For n_clusters=6, the silhouette score is 0.4502475165368625\n",
      "For n_clusters=7, the silhouette score is 0.39099533004455367\n",
      "For n_clusters=8, the silhouette score is 0.403932914981845\n",
      "For n_clusters=9, the silhouette score is 0.4033878112877099\n",
      "For n_clusters=10, the silhouette score is 0.40515844444532273\n"
     ]
    }
   ],
   "source": [
    "for i in range (2,11) : \n",
    "    kmeans = KMeans(n_clusters=i, n_init=10, random_state=42) # n_cluster = jumlah cluster , n_init = mengontrol jumlah kali pemilihan pusat klaster akan dilakukan dengan inisialisasi yang berbeda\n",
    "    kmeans.fit(x)\n",
    "    silhouette_avg = silhouette_score(x, kmeans.labels_)\n",
    "    print(\"For n_clusters={0}, the silhouette score is {1}\".format(i, silhouette_avg))  "
   ]
  },
  {
   "cell_type": "markdown",
   "metadata": {},
   "source": [
    "C.1.3 Dilihat dari Elbow Method nya, maka jumlah pusat cluster nya 3, dimana itu merupakan optimal number cluster"
   ]
  },
  {
   "cell_type": "code",
   "execution_count": 23,
   "metadata": {},
   "outputs": [
    {
     "data": {
      "text/plain": [
       "array([1, 0, 0, ..., 1, 1, 0], dtype=int32)"
      ]
     },
     "execution_count": 23,
     "metadata": {},
     "output_type": "execute_result"
    }
   ],
   "source": [
    "kmeans = KMeans(n_clusters=3, n_init=10, random_state=42)\n",
    "y_kmeans = kmeans.fit_predict(x) # untuk mengembalikan var dependen yang akan dibuat\n",
    "y_kmeans"
   ]
  },
  {
   "cell_type": "markdown",
   "metadata": {},
   "source": [
    "C.1.4 Menentukan nama cluster dengan menghitung rata-rata setiap fitur dalam setiap cluster"
   ]
  },
  {
   "cell_type": "code",
   "execution_count": 24,
   "metadata": {},
   "outputs": [
    {
     "name": "stdout",
     "output_type": "stream",
     "text": [
      "   Total_Pembelian  Jumlah_Transaksi  Terakhir_Pembelian\n",
      "0      1224.790920         69.525499           61.883592\n",
      "1       342.863328         29.097331          127.409446\n",
      "2      2533.599336        108.141667           43.713889\n"
     ]
    }
   ],
   "source": [
    "cluster_means = x.groupby(y_kmeans).mean()\n",
    "print(cluster_means)\n"
   ]
  },
  {
   "cell_type": "markdown",
   "metadata": {},
   "source": [
    "C.1.5 Visualisasi Tipe Tipe Pelanggan"
   ]
  },
  {
   "cell_type": "code",
   "execution_count": 25,
   "metadata": {},
   "outputs": [
    {
     "data": {
      "image/png": "[encoded data removed]",
      "text/plain": [
       "<Figure size 640x480 with 1 Axes>"
      ]
     },
     "metadata": {},
     "output_type": "display_data"
    }
   ],
   "source": [
    "plt.scatter(x.iloc[y_kmeans == 0,0], x.iloc[y_kmeans ==0,1], s = 100, c = 'red', label = 'Cust Sedang')\n",
    "plt.scatter(x.iloc[y_kmeans == 1,0], x.iloc[y_kmeans ==1,1], s = 100, c = 'green', label = 'Cust Rendah')\n",
    "plt.scatter(x.iloc[y_kmeans == 2,0], x.iloc[y_kmeans ==2,1], s = 100, c = 'blue', label = 'Cust Tinggi')\n",
    "# plt.scatter(x.iloc[y_kmeans == 3,0], x.iloc[y_kmeans ==3,1], s = 100, c = 'cyan', label = 'cluster 4')\n",
    "# plt.scatter(x.iloc[y_kmeans == 4,0], x.iloc[y_kmeans ==4,1], s = 100, c = 'magenta', label = 'cluster 5')\n",
    "plt.scatter(kmeans.cluster_centers_[:,0], kmeans.cluster_centers_[:,1], s = 300, c = 'yellow', label = 'centroid')\n",
    "plt.title ('Tipe Tipe Pelanggan')\n",
    "plt.xlabel('Total Pembelian')\n",
    "plt.ylabel('Jumlah Transaksi')\n",
    "plt.legend()\n",
    "plt.show()"
   ]
  },
  {
   "cell_type": "markdown",
   "metadata": {},
   "source": [
    "### C.2 Algorithm Used"
   ]
  },
  {
   "cell_type": "code",
   "execution_count": 26,
   "metadata": {},
   "outputs": [
    {
     "name": "stderr",
     "output_type": "stream",
     "text": [
      "/home/fork/.local/lib/python3.10/site-packages/sklearn/base.py:465: UserWarning: X does not have valid feature names, but KMeans was fitted with feature names\n",
      "  warnings.warn(\n"
     ]
    },
    {
     "data": {
      "text/plain": [
       "array([0], dtype=int32)"
      ]
     },
     "execution_count": 26,
     "metadata": {},
     "output_type": "execute_result"
    }
   ],
   "source": [
    "newdata = [[800, 12, 75]]\n",
    "kmeans.predict(newdata)"
   ]
  },
  {
   "cell_type": "markdown",
   "metadata": {},
   "source": [
    "# D. Evaluasi Model Prediksi"
   ]
  },
  {
   "cell_type": "markdown",
   "metadata": {},
   "source": [
    "### D.1 Hasil Akurasi"
   ]
  },
  {
   "cell_type": "code",
   "execution_count": 27,
   "metadata": {},
   "outputs": [
    {
     "name": "stdout",
     "output_type": "stream",
     "text": [
      "Adjusted Rand Index (ARI): 1.0\n"
     ]
    }
   ],
   "source": [
    "from sklearn.metrics import adjusted_rand_score \n",
    "ari_score = adjusted_rand_score(y_kmeans,kmeans.labels_)\n",
    "print(\"Adjusted Rand Index (ARI):\", ari_score)\n"
   ]
  },
  {
   "cell_type": "code",
   "execution_count": 28,
   "metadata": {},
   "outputs": [
    {
     "name": "stdout",
     "output_type": "stream",
     "text": [
      "silhouette score :  0.593017271418894\n"
     ]
    }
   ],
   "source": [
    "from sklearn.metrics import silhouette_score\n",
    "sil = silhouette_score(x,kmeans.labels_)\n",
    "print('silhouette score : ',sil)"
   ]
  },
  {
   "cell_type": "markdown",
   "metadata": {},
   "source": [
    "### D.2 Visualisasi Hasil akurasi"
   ]
  },
  {
   "cell_type": "code",
   "execution_count": 29,
   "metadata": {},
   "outputs": [
    {
     "data": {
      "image/png": "[encoded data removed]",
      "text/plain": [
       "<Figure size 640x480 with 1 Axes>"
      ]
     },
     "metadata": {},
     "output_type": "display_data"
    },
    {
     "data": {
      "image/png": "[encoded data removed]",
      "text/plain": [
       "<Figure size 640x480 with 1 Axes>"
      ]
     },
     "metadata": {},
     "output_type": "display_data"
    }
   ],
   "source": [
    "silhouette_scores = []\n",
    "ari_scores = []\n",
    "for k in range(2, 6):\n",
    "    kmeans = KMeans(n_clusters=k, random_state=42)\n",
    "    silhouette_avg = sil\n",
    "    silhouette_scores.append(silhouette_avg)\n",
    "    ari = ari_score\n",
    "    ari_scores.append(ari)\n",
    "\n",
    "# Memplot Silhouette Score untuk berbagai nilai k\n",
    "plt.plot(range(2, 6), silhouette_scores, marker='o')\n",
    "plt.xlabel('Number of Clusters (k)')\n",
    "plt.ylabel('Silhouette Score')\n",
    "plt.title('Silhouette Score for KMeans Clustering')\n",
    "plt.show()\n",
    "# Memplot ARI untuk berbagai nilai k\n",
    "plt.plot(range(2, 6), ari_scores, marker='o')\n",
    "plt.xlabel('Number of Clusters (k)')\n",
    "plt.ylabel('Adjusted Rand Index')\n",
    "plt.title('Adjusted Rand Index for KMeans Clustering')\n",
    "plt.show()"
   ]
  },
  {
   "cell_type": "markdown",
   "metadata": {},
   "source": [
    "### COMMENTS"
   ]
  },
  {
   "cell_type": "markdown",
   "metadata": {},
   "source": [
    "cara menentukan kemiripan data dengan pengukuran jarak data<br>\n",
    "menggunakan euclidean distance = <br>\n",
    "d = akar pangkat 2 dari sigma/penjumlahan dari selisih antara (xi dan yi) ^ 2<br>\n",
    "xi = atribut data yang pertama<br>\n",
    "yi = atribut data yang kedua<br>\n",
    "<br>\n",
    "contoh ada 2 data dengan 3 kolom, maka :<br>\n",
    "d1 = akar (kolom1 data lama- kolom1 data baru)^2 + (kolom2 data lama- kolom2 data baru)^2 +(kolom3 data lama- kolom3 data baru)^2<br>\n",
    "dst sampai baris di data lama habis lalu dari setiap baris tsb dilihat mana yang nilai nya paling kecil, maka kolom data baru tsb masuk ke golongan tsb"
   ]
  },
  {
   "cell_type": "markdown",
   "metadata": {},
   "source": [
    "nah dari data tsb bisa disimpulkan nama nama cluster nya<br>\n",
    "0 = customer perlu diperhatikan<br>\n",
    "1 = customer tidak perlu diperhatikan"
   ]
  },
  {
   "cell_type": "markdown",
   "metadata": {},
   "source": [
    "nah kan sudah ketemu optimal number cluster nya 5 maka"
   ]
  }
 ],
 "metadata": {
  "kernelspec": {
   "display_name": "Python 3",
   "language": "python",
   "name": "python3"
  },
  "language_info": {
   "codemirror_mode": {
    "name": "ipython",
    "version": 3
   },
   "file_extension": ".py",
   "mimetype": "text/x-python",
   "name": "python",
   "nbconvert_exporter": "python",
   "pygments_lexer": "ipython3",
   "version": "3.10.12"
  }
 },
 "nbformat": 4,
 "nbformat_minor": 2
}
